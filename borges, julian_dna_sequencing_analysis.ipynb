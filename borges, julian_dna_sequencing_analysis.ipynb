{
 "cells": [
  {
   "cell_type": "code",
   "execution_count": null,
   "id": "91fba71a",
   "metadata": {},
   "outputs": [],
   "source": [
    "# Bioinformatics - Genomic Data Science\n",
    "# Algorithms for DNA Sequencing\n",
    "# The Johns Hopkins University\n",
    "# Student: Julian Borges\n",
    "# Programming Homework 1\n",
    "\n",
    "import matplotlib.pyplot as plt\n",
    "from collections import Counter\n"
   ]
  },
  {
   "cell_type": "code",
   "execution_count": null,
   "id": "9b06eb09",
   "metadata": {},
   "outputs": [],
   "source": [
    "# -----------------------------\n",
    "# Utility: Genome Reader"
   ]
  },
  {
   "cell_type": "code",
   "execution_count": null,
   "id": "c0b89c39",
   "metadata": {},
   "outputs": [],
   "source": [
    "# -----------------------------\n",
    "def read_genome(filename):\n",
    "    genome = ''\n",
    "    with open(filename, 'r') as f:\n",
    "        for line in f:\n",
    "            if not line.startswith('>'):\n",
    "                genome += line.strip()\n",
    "    return genome\n"
   ]
  },
  {
   "cell_type": "code",
   "execution_count": null,
   "id": "57360cf0",
   "metadata": {},
   "outputs": [],
   "source": [
    "# -----------------------------\n",
    "# Utility: Reverse Complement"
   ]
  },
  {
   "cell_type": "code",
   "execution_count": null,
   "id": "2b9daa2f",
   "metadata": {},
   "outputs": [],
   "source": [
    "# -----------------------------\n",
    "def reverse_complement(seq):\n",
    "    complement = {'A': 'T', 'T': 'A', 'C': 'G', 'G': 'C', 'N': 'N'}\n",
    "    return ''.join(complement[base] for base in reversed(seq))\n"
   ]
  },
  {
   "cell_type": "code",
   "execution_count": null,
   "id": "5406670a",
   "metadata": {},
   "outputs": [],
   "source": [
    "# -----------------------------\n",
    "# Utility: Naive Exact Match"
   ]
  },
  {
   "cell_type": "code",
   "execution_count": null,
   "id": "56e43dcf",
   "metadata": {},
   "outputs": [],
   "source": [
    "# -----------------------------\n",
    "def naive_match(pattern, text):\n",
    "    positions = []\n",
    "    for i in range(len(text) - len(pattern) + 1):\n",
    "        match = True\n",
    "        for j in range(len(pattern)):\n",
    "            if text[i + j] != pattern[j]:\n",
    "                match = False\n",
    "                break\n",
    "        if match:\n",
    "            positions.append(i)\n",
    "    return positions\n"
   ]
  },
  {
   "cell_type": "code",
   "execution_count": null,
   "id": "02cb233e",
   "metadata": {},
   "outputs": [],
   "source": [
    "# -----------------------------\n",
    "# Utility: Approximate Match ≤ 2 mismatches"
   ]
  },
  {
   "cell_type": "code",
   "execution_count": null,
   "id": "7e707d4d",
   "metadata": {},
   "outputs": [],
   "source": [
    "# -----------------------------\n",
    "def naive_2mm(pattern, text):\n",
    "    positions = []\n",
    "    for i in range(len(text) - len(pattern) + 1):\n",
    "        mismatches = 0\n",
    "        for j in range(len(pattern)):\n",
    "            if text[i + j] != pattern[j]:\n",
    "                mismatches += 1\n",
    "                if mismatches > 2:\n",
    "                    break\n",
    "        if mismatches <= 2:\n",
    "            positions.append(i)\n",
    "    return positions\n"
   ]
  },
  {
   "cell_type": "code",
   "execution_count": null,
   "id": "bad1c051",
   "metadata": {},
   "outputs": [],
   "source": [
    "# -----------------------------\n",
    "# Utility: Count Exact Matches"
   ]
  },
  {
   "cell_type": "code",
   "execution_count": null,
   "id": "c2fe2db5",
   "metadata": {},
   "outputs": [],
   "source": [
    "# -----------------------------\n",
    "def count_occurrences(pattern, sequence):\n",
    "    count = 0\n",
    "    for i in range(len(sequence) - len(pattern) + 1):\n",
    "        if sequence[i:i + len(pattern)] == pattern:\n",
    "            count += 1\n",
    "    return count\n"
   ]
  },
  {
   "cell_type": "code",
   "execution_count": null,
   "id": "25efb1d6",
   "metadata": {},
   "outputs": [],
   "source": [
    "# -----------------------------\n",
    "# Question 1 - Count AGGT and ACCT"
   ]
  },
  {
   "cell_type": "code",
   "execution_count": null,
   "id": "d1f156c4",
   "metadata": {},
   "outputs": [],
   "source": [
    "# -----------------------------\n",
    "genome_path = '/Users/FxMED/PycharmProjects/Introduction to Python/Introduction/Comments/lambda_virus.fa'\n",
    "genome = read_genome(genome_path)\n",
    "pattern1 = 'AGGT'\n",
    "revcomp1 = reverse_complement(pattern1)\n",
    "print(\"Q1:\")\n",
    "print(f\"Forward '{pattern1}': {count_occurrences(pattern1, genome)}\")\n",
    "print(f\"Reverse '{revcomp1}': {count_occurrences(revcomp1, genome)}\\n\")\n"
   ]
  },
  {
   "cell_type": "code",
   "execution_count": null,
   "id": "5ee0a8fa",
   "metadata": {},
   "outputs": [],
   "source": [
    "# -----------------------------\n",
    "# Question 2 - Count TTAA and reverse"
   ]
  },
  {
   "cell_type": "code",
   "execution_count": null,
   "id": "b5ea7162",
   "metadata": {},
   "outputs": [],
   "source": [
    "# -----------------------------\n",
    "pattern2 = 'TTAA'\n",
    "revcomp2 = reverse_complement(pattern2)\n",
    "print(\"Q2:\")\n",
    "print(f\"Forward '{pattern2}': {count_occurrences(pattern2, genome)}\")\n",
    "print(f\"Reverse '{revcomp2}': {count_occurrences(revcomp2, genome)}\\n\")\n"
   ]
  },
  {
   "cell_type": "code",
   "execution_count": null,
   "id": "b2fdf81f",
   "metadata": {},
   "outputs": [],
   "source": [
    "# -----------------------------\n",
    "# Question 3 - Leftmost match for ACTAAGT or reverse"
   ]
  },
  {
   "cell_type": "code",
   "execution_count": null,
   "id": "b01b5f06",
   "metadata": {},
   "outputs": [],
   "source": [
    "# -----------------------------\n",
    "pattern3 = 'ACTAAGT'\n",
    "rev3 = reverse_complement(pattern3)\n",
    "positions3 = naive_match(pattern3, genome)\n",
    "rev_positions3 = naive_match(rev3, genome)\n",
    "min3 = min(\n",
    "    positions3[0] if positions3 else float('inf'),\n",
    "    rev_positions3[0] if rev_positions3 else float('inf')\n",
    ")\n",
    "print(\"Q3:\")\n",
    "print(f\"Leftmost occurrence: {min3}\\n\")\n"
   ]
  },
  {
   "cell_type": "code",
   "execution_count": null,
   "id": "ac7c20da",
   "metadata": {},
   "outputs": [],
   "source": [
    "# -----------------------------\n",
    "# Question 4 - Leftmost match for AGTCGA or reverse"
   ]
  },
  {
   "cell_type": "code",
   "execution_count": null,
   "id": "2cced290",
   "metadata": {},
   "outputs": [],
   "source": [
    "# -----------------------------\n",
    "pattern4 = 'AGTCGA'\n",
    "rev4 = reverse_complement(pattern4)\n",
    "pos4 = naive_match(pattern4, genome)\n",
    "rev_pos4 = naive_match(rev4, genome)\n",
    "min4 = min(\n",
    "    pos4[0] if pos4 else float('inf'),\n",
    "    rev_pos4[0] if rev_pos4 else float('inf')\n",
    ")\n",
    "print(\"Q4:\")\n",
    "print(f\"Leftmost occurrence: {min4}\\n\")\n"
   ]
  },
  {
   "cell_type": "code",
   "execution_count": null,
   "id": "7a6fb586",
   "metadata": {},
   "outputs": [],
   "source": [
    "# -----------------------------\n",
    "# Question 5 - Approximate matches ≤2 for TTCAAGCC"
   ]
  },
  {
   "cell_type": "code",
   "execution_count": null,
   "id": "f7ad220e",
   "metadata": {},
   "outputs": [],
   "source": [
    "# -----------------------------\n",
    "pattern5 = 'TTCAAGCC'\n",
    "matches5 = naive_2mm(pattern5, genome)\n",
    "print(\"Q5:\")\n",
    "print(f\"Matches with ≤2 mismatches: {len(matches5)}\\n\")\n"
   ]
  },
  {
   "cell_type": "code",
   "execution_count": null,
   "id": "f3351ea4",
   "metadata": {},
   "outputs": [],
   "source": [
    "# -----------------------------\n",
    "# Question 6 - First match for AGGAGGTT with ≤2 mismatches"
   ]
  },
  {
   "cell_type": "code",
   "execution_count": null,
   "id": "ffde1a44",
   "metadata": {},
   "outputs": [],
   "source": [
    "# -----------------------------\n",
    "pattern6 = 'AGGAGGTT'\n",
    "matches6 = naive_2mm(pattern6, genome)\n",
    "print(\"Q6:\")\n",
    "print(f\"Leftmost match with ≤2 mismatches: {matches6[0] if matches6 else 'None'}\\n\")\n"
   ]
  },
  {
   "cell_type": "code",
   "execution_count": null,
   "id": "696c8553",
   "metadata": {},
   "outputs": [],
   "source": [
    "# -----------------------------\n",
    "# Question 7 - Analyze FASTQ quality scores"
   ]
  },
  {
   "cell_type": "code",
   "execution_count": null,
   "id": "8ff2ba9a",
   "metadata": {},
   "outputs": [],
   "source": [
    "# -----------------------------\n",
    "def phred33_to_q(char):\n",
    "    return ord(char) - 33\n",
    "\n",
    "def read_fastq(filename):\n",
    "    qualities = []\n",
    "    with open(filename, 'r') as fh:\n",
    "        while True:\n",
    "            fh.readline()\n",
    "            seq = fh.readline()\n",
    "            fh.readline()\n",
    "            qual = fh.readline().strip()\n",
    "            if not qual:\n",
    "                break\n",
    "            qualities.append(qual)\n",
    "    return qualities\n",
    "\n",
    "def quality_by_position(qualities):\n",
    "    max_len = max(len(q) for q in qualities)\n",
    "    pos_scores = [Counter() for _ in range(max_len)]\n",
    "    for qual in qualities:\n",
    "        for i, char in enumerate(qual):\n",
    "            pos_scores[i][phred33_to_q(char)] += 1\n",
    "    avg_scores = []\n",
    "    for counter in pos_scores:\n",
    "        total = sum(score * count for score, count in counter.items())\n",
    "        count = sum(counter.values())\n",
    "        avg = total / count if count > 0 else 0\n",
    "        avg_scores.append(avg)\n",
    "    return avg_scores\n",
    "\n",
    "fastq_path = '/Users/FxMED/PycharmProjects/Introduction to Python/Introduction/Comments/ERR037900_1.first1000.fastq'\n",
    "qualities = read_fastq(fastq_path)\n",
    "avg_scores = quality_by_position(qualities)\n",
    "\n",
    "plt.figure(figsize=(12, 5))\n",
    "plt.plot(range(len(avg_scores)), avg_scores)\n",
    "plt.title(\"Average Quality Score per Sequencing Cycle\")\n",
    "plt.xlabel(\"Cycle (Base Position)\")\n",
    "plt.ylabel(\"Average Phred Score\")\n",
    "plt.grid(True)\n",
    "plt.tight_layout()\n",
    "plt.show()\n",
    "\n",
    "worst_cycle = avg_scores.index(min(avg_scores))\n",
    "print(\"Q7:\")\n",
    "print(f\"Lowest average quality cycle: {worst_cycle}\")"
   ]
  }
 ],
 "metadata": {
  "kernelspec": {
   "display_name": "Python 3",
   "name": "python3"
  },
  "language_info": {
   "name": "python",
   "version": "3.x"
  }
 },
 "nbformat": 4,
 "nbformat_minor": 5
}
